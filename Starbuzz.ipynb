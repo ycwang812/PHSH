{
  "nbformat": 4,
  "nbformat_minor": 0,
  "metadata": {
    "colab": {
      "name": "Starbuzz.ipynb",
      "version": "0.3.2",
      "provenance": []
    },
    "kernelspec": {
      "name": "python3",
      "display_name": "Python 3"
    }
  },
  "cells": [
    {
      "cell_type": "markdown",
      "metadata": {
        "id": "XaoGz35qtxVw",
        "colab_type": "text"
      },
      "source": [
        "#  網路爬蟲實作"
      ]
    },
    {
      "cell_type": "code",
      "metadata": {
        "id": "ahgOnrEKt2Tw",
        "colab_type": "code",
        "colab": {}
      },
      "source": [
        "import urllib.request\n",
        "\n",
        "page = urllib.request.urlopen(\"http://beans-r-us.appspot.com/prices.html\")\n",
        "text = page.read().decode(\"utf8\")\n",
        "\n",
        "print(text)"
      ],
      "execution_count": 0,
      "outputs": []
    },
    {
      "cell_type": "markdown",
      "metadata": {
        "id": "q2QuPsVDt9Sx",
        "colab_type": "text"
      },
      "source": [
        "### 找出價格"
      ]
    },
    {
      "cell_type": "code",
      "metadata": {
        "id": "cbldm6Fut_pY",
        "colab_type": "code",
        "colab": {}
      },
      "source": [
        "import urllib.request\n",
        "\n",
        "page = urllib.request.urlopen(\"http://beans-r-us.appspot.com/prices.html\")\n",
        "text = page.read().decode(\"utf8\")\n",
        "price = text[234:238]\n",
        "\n",
        "print(price)"
      ],
      "execution_count": 0,
      "outputs": []
    },
    {
      "cell_type": "markdown",
      "metadata": {
        "id": "1OOnCAhrvC_Q",
        "colab_type": "text"
      },
      "source": [
        "### 動態找價格"
      ]
    },
    {
      "cell_type": "code",
      "metadata": {
        "id": "BqDUP9bOvJEP",
        "colab_type": "code",
        "colab": {}
      },
      "source": [
        "import urllib.request\n",
        "\n",
        "page = urllib.request.urlopen(\"http://beans-r-us.appspot.com/prices.html\")\n",
        "text = page.read().decode(\"utf8\")\n",
        "\n",
        "where = text.find(\">$\")\n",
        "\n",
        "start_of_price = where + 2\n",
        "end_of_price = start_of_price + 4\n",
        "\n",
        "price = text[start_of_price:end_of_price]\n",
        "\n",
        "print(price)"
      ],
      "execution_count": 0,
      "outputs": []
    },
    {
      "cell_type": "markdown",
      "metadata": {
        "id": "oO6A4KzkuwJp",
        "colab_type": "text"
      },
      "source": [
        "### 找到最低價格 (會錯!)"
      ]
    },
    {
      "cell_type": "code",
      "metadata": {
        "id": "u0BM0Fp3u3jY",
        "colab_type": "code",
        "colab": {}
      },
      "source": [
        "import urllib.request\n",
        "\n",
        "price = 99.99\n",
        "\n",
        "while price > 5.9:\n",
        "  page = urllib.request.urlopen(\"http://beans-r-us.appspot.com/prices.html\")\n",
        "  text = page.read().decode(\"utf8\")\n",
        "\n",
        "  where = text.find(\">$\")\n",
        "\n",
        "  start_of_price = where + 2\n",
        "  end_of_price = start_of_price + 4\n",
        "\n",
        "  price = text[start_of_price:end_of_price]\n",
        "  \n",
        "print(\"Buy!\")"
      ],
      "execution_count": 0,
      "outputs": []
    },
    {
      "cell_type": "markdown",
      "metadata": {
        "id": "od5NH9qwvaNR",
        "colab_type": "text"
      },
      "source": [
        "###  轉換變數型別"
      ]
    },
    {
      "cell_type": "code",
      "metadata": {
        "id": "ERqVjNJ8vgKY",
        "colab_type": "code",
        "colab": {}
      },
      "source": [
        "import urllib.request\n",
        "\n",
        "price = 99.99\n",
        "\n",
        "while price > 5.9:\n",
        "  page = urllib.request.urlopen(\"http://beans-r-us.appspot.com/prices.html\")\n",
        "  text = page.read().decode(\"utf8\")\n",
        "\n",
        "  where = text.find(\">$\")\n",
        "\n",
        "  start_of_price = where + 2\n",
        "  end_of_price = start_of_price + 4\n",
        "\n",
        "  price = float(text[start_of_price:end_of_price])\n",
        "  \n",
        "print(\"Buy!\")"
      ],
      "execution_count": 0,
      "outputs": []
    },
    {
      "cell_type": "markdown",
      "metadata": {
        "id": "VHnjlyn3vwgx",
        "colab_type": "text"
      },
      "source": [
        "### 減少伺服器負載"
      ]
    },
    {
      "cell_type": "code",
      "metadata": {
        "id": "XGQ1m4EIvyEo",
        "colab_type": "code",
        "colab": {}
      },
      "source": [
        "import urllib.request\n",
        "import time\n",
        "\n",
        "price = 99.99\n",
        "\n",
        "while price > 5.9:\n",
        "  time.sleep(900)\n",
        "  \n",
        "  page = urllib.request.urlopen(\"http://beans-r-us.appspot.com/prices.html\")\n",
        "  text = page.read().decode(\"utf8\")\n",
        "\n",
        "  where = text.find(\">$\")\n",
        "\n",
        "  start_of_price = where + 2\n",
        "  end_of_price = start_of_price + 4\n",
        "\n",
        "  price = float(text[start_of_price:end_of_price])\n",
        "  \n",
        "print(\"Buy!\")"
      ],
      "execution_count": 0,
      "outputs": []
    },
    {
      "cell_type": "markdown",
      "metadata": {
        "colab_type": "text",
        "id": "4XgqNOSospfW"
      },
      "source": [
        "### 減少程式重複性"
      ]
    },
    {
      "cell_type": "code",
      "metadata": {
        "colab_type": "code",
        "id": "GcLlLhiSsoUn",
        "colab": {}
      },
      "source": [
        "import urllib.request\n",
        "\n",
        "def get_price():\n",
        "  page = urllib.request.urlopen(\"http://beans-r-us.appspot.com/prices.html\")\n",
        "  text = page.read().decode(\"utf8\")\n",
        "\n",
        "  where = text.find(\">$\")\n",
        "\n",
        "  start_of_price = where + 2\n",
        "  end_of_price = start_of_price + 4\n",
        "\n",
        "  print(text[start_of_price:end_of_price])\n",
        "\n",
        "get_price()"
      ],
      "execution_count": 0,
      "outputs": []
    },
    {
      "cell_type": "markdown",
      "metadata": {
        "id": "phOUMu95wZjJ",
        "colab_type": "text"
      },
      "source": [
        "### 函式回傳值"
      ]
    },
    {
      "cell_type": "code",
      "metadata": {
        "id": "kZstLfrXwoWo",
        "colab_type": "code",
        "colab": {}
      },
      "source": [
        "import urllib.request\n",
        "\n",
        "def get_price():\n",
        "  page = urllib.request.urlopen(\"http://beans-r-us.appspot.com/prices.html\")\n",
        "  text = page.read().decode(\"utf8\")\n",
        "\n",
        "  where = text.find(\">$\")\n",
        "\n",
        "  start_of_price = where + 2\n",
        "  end_of_price = start_of_price + 4\n",
        "\n",
        "  return(text[start_of_price:end_of_price])\n",
        "\n",
        "price = get_price()\n",
        "\n",
        "print(price)"
      ],
      "execution_count": 0,
      "outputs": []
    },
    {
      "cell_type": "markdown",
      "metadata": {
        "id": "3KTLz5_mw8Wx",
        "colab_type": "text"
      },
      "source": [
        "增加判斷式"
      ]
    },
    {
      "cell_type": "code",
      "metadata": {
        "id": "rqtskaRXxAgw",
        "colab_type": "code",
        "colab": {}
      },
      "source": [
        "import urllib.request\n",
        "import time\n",
        "\n",
        "def get_price():\n",
        "  page = urllib.request.urlopen(\"http://beans-r-us.appspot.com/prices.html\")\n",
        "  text = page.read().decode(\"utf8\")\n",
        "\n",
        "  where = text.find(\">$\")\n",
        "\n",
        "  start_of_price = where + 2\n",
        "  end_of_price = start_of_price + 4\n",
        "\n",
        "  return(float(text[start_of_price:end_of_price]))\n",
        "\n",
        "price_now = input(\"Do you want to see the price now (Y/N)?\")\n",
        "\n",
        "if price_now == \"Y\":\n",
        "  print(get_price())\n",
        "else:\n",
        "  price = 99.99\n",
        "\n",
        "  while price > 5.9:\n",
        "    time.sleep(900)\n",
        "\n",
        "    price = get_price\n",
        "  \n",
        "  print(\"Buy!\")"
      ],
      "execution_count": 0,
      "outputs": []
    }
  ]
}